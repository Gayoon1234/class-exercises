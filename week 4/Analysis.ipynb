{
 "cells": [
  {
   "cell_type": "code",
   "execution_count": null,
   "metadata": {},
   "outputs": [],
   "source": [
    "# Read in data\n",
    "import pandas as pd\n",
    "\n",
    "df = pd.read_csv(filepath_or_buffer='./communities.data', sep=',', header=None, na_values='?', keep_default_na=True)\n",
    "column_names = ['state', 'county', 'community', 'communityname', 'fold', 'population', 'householdsize', 'racepctblack', 'racePctWhite', 'racePctAsian', 'racePctHisp', 'agePct12t21', 'agePct12t29', 'agePct16t24', 'agePct65up', 'numbUrban', 'pctUrban', 'medIncome', 'pctWWage', 'pctWFarmSelf', 'pctWInvInc', 'pctWSocSec', 'pctWPubAsst', 'pctWRetire', 'medFamInc', 'perCapInc', 'whitePerCap', 'blackPerCap', 'indianPerCap', 'AsianPerCap', 'OtherPerCap', 'HispPerCap', 'NumUnderPov', 'PctPopUnderPov', 'PctLess9thGrade', 'PctNotHSGrad', 'PctBSorMore', 'PctUnemployed', 'PctEmploy', 'PctEmplManu', 'PctEmplProfServ', 'PctOccupManu', 'PctOccupMgmtProf', 'MalePctDivorce', 'MalePctNevMarr', 'FemalePctDiv', 'TotalPctDiv', 'PersPerFam', 'PctFam2Par', 'PctKids2Par', 'PctYoungKids2Par', 'PctTeen2Par', 'PctWorkMomYoungKids', 'PctWorkMom', 'NumIlleg', 'PctIlleg', 'NumImmig', 'PctImmigRecent', 'PctImmigRec5', 'PctImmigRec8', 'PctImmigRec10', 'PctRecentImmig', 'PctRecImmig5', 'PctRecImmig8', 'PctRecImmig10', 'PctSpeakEnglOnly', 'PctNotSpeakEnglWell', 'PctLargHouseFam', 'PctLargHouseOccup', 'PersPerOccupHous', 'PersPerOwnOccHous', 'PersPerRentOccHous', 'PctPersOwnOccup', 'PctPersDenseHous', 'PctHousLess3BR', 'MedNumBR', 'HousVacant', 'PctHousOccup', 'PctHousOwnOcc', 'PctVacantBoarded', 'PctVacMore6Mos', 'MedYrHousBuilt', 'PctHousNoPhone', 'PctWOFullPlumb', 'OwnOccLowQuart', 'OwnOccMedVal', 'OwnOccHiQuart', 'RentLowQ', 'RentMedian', 'RentHighQ', 'MedRent', 'MedRentPctHousInc', 'MedOwnCostPctInc', 'MedOwnCostPctIncNoMtg', 'NumInShelters', 'NumStreet', 'PctForeignBorn', 'PctBornSameState', 'PctSameHouse85', 'PctSameCity85', 'PctSameState85', 'LemasSwornFT', 'LemasSwFTPerPop', 'LemasSwFTFieldOps', 'LemasSwFTFieldPerPop', 'LemasTotalReq', 'LemasTotReqPerPop', 'PolicReqPerOffic', 'PolicPerPop', 'RacialMatchCommPol', 'PctPolicWhite', 'PctPolicBlack', 'PctPolicHisp', 'PctPolicAsian', 'PctPolicMinor', 'OfficAssgnDrugUnits', 'NumKindsDrugsSeiz', 'PolicAveOTWorked', 'LandArea', 'PopDens', 'PctUsePubTrans', 'PolicCars', 'PolicOperBudg', 'LemasPctPolicOnPatr', 'LemasGangUnitDeploy', 'LemasPctOfficDrugUn', 'PolicBudgPerPop', 'ViolentCrimesPerPop']\n",
    "df.columns = column_names\n",
    "df"
   ]
  },
  {
   "cell_type": "code",
   "execution_count": null,
   "metadata": {},
   "outputs": [],
   "source": [
    "# Do Lasso on all 122 variables (same as previously)\n",
    "y = df['ViolentCrimesPerPop'].copy()\n",
    "X = df.drop(\n",
    "    columns=['state', 'county', 'community', 'communityname', 'fold', 'ViolentCrimesPerPop']\n",
    ")"
   ]
  },
  {
   "cell_type": "code",
   "execution_count": null,
   "metadata": {},
   "outputs": [],
   "source": [
    "# Lasso\n",
    "import numpy as np\n",
    "from sklearn.model_selection import GridSearchCV\n",
    "from sklearn.pipeline import Pipeline\n",
    "from sklearn.linear_model import Lasso\n",
    "from sklearn.preprocessing import StandardScaler\n",
    "from sklearn.impute import SimpleImputer\n",
    "\n",
    "\n",
    "grid = {\n",
    "    'estimator__alpha': np.logspace(-3, -1, 100)\n",
    "}\n",
    "\n",
    "pipe = Pipeline([\n",
    "    ('imputer', SimpleImputer(missing_values=np.nan, strategy='median')),\n",
    "    ('standardise', StandardScaler()),\n",
    "    ('estimator', Lasso())\n",
    "])\n",
    "\n",
    "# Setup the GridSearch\n",
    "grid_search_cv = GridSearchCV(estimator=pipe, param_grid=grid, cv=3, return_train_score=True)"
   ]
  },
  {
   "cell_type": "code",
   "execution_count": null,
   "metadata": {},
   "outputs": [],
   "source": [
    "# First just look at a single train/test split\n",
    "from sklearn.model_selection import train_test_split\n",
    "\n",
    "X_train, X_test, y_train, y_test = train_test_split(X, y, random_state=42)\n",
    "\n",
    "# and Grid Search on the training data\n",
    "gs = grid_search_cv.fit(X_train, y_train)\n",
    "results = gs.cv_results_"
   ]
  },
  {
   "cell_type": "code",
   "execution_count": null,
   "metadata": {},
   "outputs": [],
   "source": [
    "# Let's look at the 'Inner' test scores for each alpha (lambda)\n",
    "\n",
    "# Note: we introduce new terms \"Inner\" and \"Outer\". Let's look at what these are.\n",
    "# We continue to split the initial sample by train (2/3) and test (1/3)\n",
    "# We run gridsearch on the train only\n",
    "# This involves splitting the train further into train (2/3 of 2/3 of the initial data) \n",
    "# and test (1/3 of 2/3 of the initial data). Repeat this three times.\n",
    "# Inner test scores means scores that pertain to the results from the 1/3 of '2/3 of the initial data' (the inner test set)\n",
    "# remember also averaged over the 3 test scores\n",
    "# Outer test scores means scores that pertain to the results from the 1/3 of the initial data (the outer test set)\n",
    "\n",
    "import matplotlib.pyplot as plt \n",
    "\n",
    "fig, ax = plt.subplots()\n",
    "ax.set_xscale(value='log')\n",
    "plt.errorbar(x=results['param_estimator__alpha'], y=results['mean_test_score'], yerr=results['std_test_score'])\n",
    "plt.axvline(x=[gs.best_params_['estimator__alpha'],])\n",
    "plt.xlabel('alpha/lambda')\n",
    "plt.ylabel(r'$R^2$')\n",
    "plt.title('\"Inner\" test scores')\n",
    "plt.tight_layout()\n",
    "plt.show()"
   ]
  },
  {
   "cell_type": "code",
   "execution_count": null,
   "metadata": {},
   "outputs": [],
   "source": [
    "# By default the GridSearchCV will be 'refit' with the entire set of data passed (e.g. X_train, y_train) \n",
    "# using the best parameters found at the end of the gridsearch\n",
    "# note: the \"outer\" test score is calculated on 1/3 of the full data\n",
    "# the \"outer\" train score is calculated on 2/3 of the full data\n",
    "\n",
    "r2_overall_train = gs.score(X=X_train, y=y_train)\n",
    "r2_overall_test = gs.score(X=X_test, y=y_test)\n",
    "\n",
    "plt.bar(x=['Train', 'Test'], height=[r2_overall_train, r2_overall_test])\n",
    "plt.ylabel(r'$R^2$')\n",
    "plt.title('\"Outer\" test vs train scores')\n",
    "plt.show()"
   ]
  },
  {
   "cell_type": "code",
   "execution_count": null,
   "metadata": {},
   "outputs": [],
   "source": [
    "# Let's also look at the test vs train scores\n",
    "fig, ax = plt.subplots()\n",
    "ax.set_xscale(value='log')\n",
    "plt.errorbar(x=results['param_estimator__alpha'], y=results['mean_test_score'], yerr=results['std_test_score'], label='Test')\n",
    "plt.errorbar(x=results['param_estimator__alpha'], y=results['mean_train_score'], yerr=results['std_train_score'], label='Train')\n",
    "plt.axvline(x=[gs.best_params_['estimator__alpha'],],)\n",
    "plt.xlabel('alpha/lambda')\n",
    "plt.ylabel(r'$R^2$')\n",
    "plt.title('Inner test vs train scores')\n",
    "plt.legend()\n",
    "plt.tight_layout()\n",
    "plt.show()"
   ]
  },
  {
   "cell_type": "code",
   "execution_count": null,
   "metadata": {},
   "outputs": [],
   "source": [
    "# Note: we don't reproduce the above graph for \"outer\" test and train i.e. across the range of lambda values\n",
    "# This is because we run Gridsearch only over the \"inner\" data i.e. 2/3 of the initial data (remember by further splitting)\n",
    "# Instead, we have one statistic for the \"outer\" test and one for the \"outer\" train \n",
    "# i.e. 1/3 of initial data and 2/3 of the initial data, using the \"best\" hyperparameters"
   ]
  },
  {
   "cell_type": "code",
   "execution_count": null,
   "metadata": {},
   "outputs": [],
   "source": [
    "# Now nested CV\n",
    "# Note: nested CV is the same as above but we just repeat three times (rather than one initial split)\n",
    "\n",
    "\n",
    "from sklearn.model_selection import cross_validate \n",
    "\n",
    "cv_result = cross_validate(estimator=grid_search_cv, X=X, y=y, cv=3, return_train_score=True, return_estimator=True)\n",
    "test_score = cv_result['test_score']\n",
    "train_score = cv_result['train_score']\n",
    "plt.bar(x=range(2), \n",
    "        height = [np.mean(train_score), np.mean(test_score)], \n",
    "        tick_label=['Train', 'Test'], \n",
    "        yerr=[np.std(train_score), np.std(test_score)])\n",
    "plt.ylabel(r'$R^2$')\n",
    "plt.title('\"Outer\" cross-validation scores')\n",
    "plt.show()"
   ]
  },
  {
   "attachments": {
    "image.png": {
     "image/png": "[encoded data removed]"
    }
   },
   "cell_type": "markdown",
   "metadata": {},
   "source": [
    "![image.png](attachment:image.png)"
   ]
  },
  {
   "cell_type": "code",
   "execution_count": null,
   "metadata": {},
   "outputs": [],
   "source": [
    "# Let's look at the 'inner' test scores for each alpha (lambda)\n",
    "# Note: that there are three inner test scores because remember that we repeated the gridsearch on three inner test samples\n",
    "\n",
    "fig, ax = plt.subplots()\n",
    "ax.set_xscale(value='log')\n",
    "\n",
    "for i, estimator in enumerate(cv_result['estimator']):\n",
    "    result = estimator.cv_results_\n",
    "    err = plt.errorbar(x=result['param_estimator__alpha'], y=result['mean_test_score'], yerr=result['std_test_score'], label='Test')\n",
    "    plt.axvline(x=[estimator.best_params_['estimator__alpha'],], color=err[0].get_color())\n",
    "\n",
    "plt.xlabel('alpha/lambda')\n",
    "plt.ylabel(r'$R^2$')\n",
    "plt.title('\"Inner\" test scores')\n",
    "plt.legend()\n",
    "plt.tight_layout()\n",
    "plt.show()"
   ]
  },
  {
   "cell_type": "code",
   "execution_count": null,
   "metadata": {},
   "outputs": [],
   "source": [
    "# Let's look at the 'inner' test scores for each alpha (lambda)\n",
    "# Note: that there are also three inner train scores because remember \n",
    "# that we repeated the gridsearch on three inner train samples\n",
    "\n",
    "fig, ax = plt.subplots()\n",
    "ax.set_xscale(value='log')\n",
    "\n",
    "for estimator in cv_result['estimator']:\n",
    "    result = estimator.cv_results_\n",
    "    err = plt.errorbar(x=result['param_estimator__alpha'], y=result['mean_test_score'], yerr=result['std_test_score'], label='Test')\n",
    "    plt.errorbar(x=result['param_estimator__alpha'], y=result['mean_train_score'], yerr=result['std_train_score'], label='Train', \n",
    "                 linestyle='dashed', color=err[0].get_color())\n",
    "    plt.axvline(x=[estimator.best_params_['estimator__alpha'],], color=err[0].get_color())\n",
    "plt.xlabel('alpha/lambda')\n",
    "plt.ylabel(r'$R^2$')\n",
    "plt.title('\"Inner\" test vs train scores')\n",
    "plt.legend()\n",
    "plt.tight_layout()\n",
    "plt.show()"
   ]
  },
  {
   "cell_type": "code",
   "execution_count": null,
   "metadata": {},
   "outputs": [],
   "source": [
    "# Some notes on GridSearchCV\n",
    "# grid = {\n",
    "#     'estimator__alpha': np.logspace(-3.5, -1, 100)\n",
    "# }\n",
    "\n",
    "# What does this actually mean?\n",
    "# np.logspace(-3.5, -1, 100)\n",
    "\n",
    "# 'Take 100 numbers between 10^-3.5 and 10^-1, in the log space\n",
    "# note: that 10^-3.5 is smaller than 10^-1 (because the denominator is larger)\n",
    "# and note: that the bigger the alpha the greater the penalisation, meaning we drop more X's (for LASSO)\n",
    "# e.g.\n",
    "\n",
    "for item in np.logspace(-3.5, -1, 100):\n",
    "    print(item)"
   ]
  },
  {
   "cell_type": "code",
   "execution_count": null,
   "metadata": {},
   "outputs": [],
   "source": [
    "# How do we choose?\n",
    "# Start with an 'educated guess' (or default values)\n",
    "# Then check to see what's actually happening in the GridSearch, and adjust if necessary\n",
    "# for example, looking at a wider range to give a better picture of this, \n",
    "# we are choosing a value which maximises the score for the test data (in the GridSearch)\n",
    "\n",
    "grid = {\n",
    "    'estimator__alpha': np.logspace(-7, 0, 300)\n",
    "}\n",
    "\n",
    "pipe = Pipeline([\n",
    "    ('imputer', SimpleImputer(missing_values=np.nan, strategy='median')),\n",
    "    ('standardise', StandardScaler()),\n",
    "    ('estimator', Lasso())\n",
    "])\n",
    "\n",
    "# Setup the GridSearch\n",
    "grid_search_cv = GridSearchCV(estimator=pipe, param_grid=grid, cv=3, return_train_score=True)\n",
    "gs = grid_search_cv.fit(X_train, y_train)\n",
    "results = gs.cv_results_\n",
    "# NOTE: There are a number of ConvergenceWarnings we weren't seeing before \n",
    "# - likely because we've expanded the alpha range we're searching over\n",
    "\n",
    "# Convergence errors means the model did not estimate\n",
    "\n",
    "# Let's also look at the 'inner' test vs train scores\n",
    "fig, ax = plt.subplots()\n",
    "ax.set_xscale(value='log')\n",
    "plt.errorbar(x=results['param_estimator__alpha'], y=results['mean_test_score'], yerr=results['std_test_score'], label='Test')\n",
    "plt.errorbar(x=results['param_estimator__alpha'], y=results['mean_train_score'], yerr=results['std_train_score'], label='Train')\n",
    "plt.axvline(x=[gs.best_params_['estimator__alpha'],])\n",
    "plt.xlabel('alpha/lambda')\n",
    "plt.ylabel(r'$R^2$')\n",
    "plt.title('Test vs train scores')\n",
    "plt.legend()\n",
    "plt.tight_layout()\n",
    "plt.show()"
   ]
  }
 ],
 "metadata": {
  "kernelspec": {
   "display_name": "Python 3 (ipykernel)",
   "language": "python",
   "name": "python3"
  },
  "language_info": {
   "codemirror_mode": {
    "name": "ipython",
    "version": 3
   },
   "file_extension": ".py",
   "mimetype": "text/x-python",
   "name": "python",
   "nbconvert_exporter": "python",
   "pygments_lexer": "ipython3",
   "version": "3.10.9"
  }
 },
 "nbformat": 4,
 "nbformat_minor": 2
}
