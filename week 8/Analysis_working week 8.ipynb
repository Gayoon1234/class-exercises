{
  "cells": [
    {
      "cell_type": "markdown",
      "metadata": {
        "id": "0"
      },
      "source": [
        "# Jupyter Notebook Examples\n",
        "\n",
        "These examples use the Iris dataset which is commonly used in online tutorials (https://archive.ics.uci.edu/ml/datasets/Iris).\n"
      ]
    },
    {
      "cell_type": "code",
      "execution_count": 1,
      "metadata": {
        "id": "1",
        "outputId": "1e215cf6-a81c-4c0c-bf3f-bf7b4f95edaf",
        "colab": {
          "base_uri": "https://localhost:8080/",
          "height": 35
        }
      },
      "outputs": [
        {
          "output_type": "execute_result",
          "data": {
            "text/plain": [
              "'0.12.2'"
            ],
            "application/vnd.google.colaboratory.intrinsic+json": {
              "type": "string"
            }
          },
          "metadata": {},
          "execution_count": 1
        }
      ],
      "source": [
        "import matplotlib.pyplot as plt     # Matplotlib for low-level plot details\n",
        "import numpy as np                  # NumPy for fast numeric operations\n",
        "import pandas as pd                 # Pandas for datasets\n",
        "import seaborn as sns               # Seaborn for easier plotting\n",
        "\n",
        "# Machine learning tools\n",
        "from sklearn.linear_model import LogisticRegression\n",
        "from sklearn.metrics import auc, classification_report, roc_curve\n",
        "from sklearn.model_selection import train_test_split\n",
        "from sklearn.tree import DecisionTreeClassifier, plot_tree\n",
        "\n",
        "sns.__version__"
      ]
    },
    {
      "cell_type": "code",
      "execution_count": 2,
      "metadata": {
        "id": "2",
        "outputId": "9eeb5afe-08b6-4fcb-d4c7-e94c70bd120f",
        "colab": {
          "base_uri": "https://localhost:8080/"
        }
      },
      "outputs": [
        {
          "output_type": "stream",
          "name": "stdout",
          "text": [
            "<class 'pandas.core.frame.DataFrame'>\n",
            "RangeIndex: 150 entries, 0 to 149\n",
            "Data columns (total 5 columns):\n",
            " #   Column        Non-Null Count  Dtype  \n",
            "---  ------        --------------  -----  \n",
            " 0   sepal_length  150 non-null    float64\n",
            " 1   sepal_width   150 non-null    float64\n",
            " 2   petal_length  150 non-null    float64\n",
            " 3   petal_width   150 non-null    float64\n",
            " 4   class         150 non-null    object \n",
            "dtypes: float64(4), object(1)\n",
            "memory usage: 6.0+ KB\n",
            "None\n"
          ]
        }
      ],
      "source": [
        "# Fetch the data from the UCI ML repository\n",
        "# The UCI website is pretty specific:\n",
        "# 1. Each dataset is in a subfolder\n",
        "# 2. The data file name is {name}.data\n",
        "\n",
        "base_uri=\"https://archive.ics.uci.edu/ml/machine-learning-databases\"\n",
        "file_path = f\"{base_uri}/iris/iris.data\"\n",
        "# file_path = f\"{base_uri}/00623/DATA.csv\"\n",
        "# There are no column headers in the data file so manually specify them here\n",
        "iris_columns = [\"sepal_length\", \"sepal_width\", \"petal_length\", \"petal_width\", \"class\"]\n",
        "# https://pandas.pydata.org/docs/reference/api/pandas.read_csv.html\n",
        "iris_df = pd.read_csv(file_path, names=iris_columns, index_col=False)\n",
        "\n",
        "\n",
        "#set seed: students to add their own Student numbers here\n",
        "seed = 123845\n",
        "\n",
        "# Display details about the dataset\n",
        "# https://pandas.pydata.org/docs/reference/api/pandas.DataFrame.info.html\n",
        "print(iris_df.info())"
      ]
    },
    {
      "cell_type": "code",
      "execution_count": 3,
      "metadata": {
        "id": "3",
        "outputId": "ac024485-f9bd-44f1-9d78-9cca5195ff2b",
        "colab": {
          "base_uri": "https://localhost:8080/"
        }
      },
      "outputs": [
        {
          "output_type": "stream",
          "name": "stdout",
          "text": [
            "    sepal_length  sepal_width  petal_length  petal_width        class\n",
            "0            5.1          3.5           1.4          0.2  Iris-setosa\n",
            "1            4.9          3.0           1.4          0.2  Iris-setosa\n",
            "2            4.7          3.2           1.3          0.2  Iris-setosa\n",
            "3            4.6          3.1           1.5          0.2  Iris-setosa\n",
            "4            5.0          3.6           1.4          0.2  Iris-setosa\n",
            "5            5.4          3.9           1.7          0.4  Iris-setosa\n",
            "6            4.6          3.4           1.4          0.3  Iris-setosa\n",
            "7            5.0          3.4           1.5          0.2  Iris-setosa\n",
            "8            4.4          2.9           1.4          0.2  Iris-setosa\n",
            "9            4.9          3.1           1.5          0.1  Iris-setosa\n",
            "10           5.4          3.7           1.5          0.2  Iris-setosa\n",
            "11           4.8          3.4           1.6          0.2  Iris-setosa\n",
            "12           4.8          3.0           1.4          0.1  Iris-setosa\n",
            "13           4.3          3.0           1.1          0.1  Iris-setosa\n",
            "14           5.8          4.0           1.2          0.2  Iris-setosa\n",
            "15           5.7          4.4           1.5          0.4  Iris-setosa\n",
            "16           5.4          3.9           1.3          0.4  Iris-setosa\n",
            "17           5.1          3.5           1.4          0.3  Iris-setosa\n",
            "18           5.7          3.8           1.7          0.3  Iris-setosa\n",
            "19           5.1          3.8           1.5          0.3  Iris-setosa\n"
          ]
        }
      ],
      "source": [
        "# List the first 20 records in the dataset\n",
        "# https://pandas.pydata.org/docs/reference/api/pandas.DataFrame.head.html\n",
        "print(iris_df.head(n=20))"
      ]
    },
    {
      "cell_type": "markdown",
      "metadata": {
        "id": "4"
      },
      "source": [
        "## Data Wrangling\n",
        "\n",
        "### Notes\n",
        "1. When working with Pandas axis=0 means a row operation and axis=1 means a column operation.\n",
        "2. The a subset of columns can be selected by creating a list of names e.g. ['var1', 'var2'].\n",
        "\n",
        "### Creating variables"
      ]
    },
    {
      "cell_type": "code",
      "execution_count": 4,
      "metadata": {
        "id": "5"
      },
      "outputs": [],
      "source": [
        "# Example 1: Calculate petal area\n",
        "iris_df[\"petal_area\"] = iris_df[\"petal_length\"] * iris_df[\"petal_width\"]\n",
        "\n",
        "# Example 2: Calculate mean sepal dimensions\n",
        "# https://pandas.pydata.org/docs/reference/api/pandas.DataFrame.mean.html\n",
        "sepal_names = [\"sepal_length\", \"sepal_width\"]\n",
        "iris_df[\"sepal_mean\"] = iris_df[sepal_names].mean(axis=1)"
      ]
    },
    {
      "cell_type": "markdown",
      "metadata": {
        "id": "6"
      },
      "source": [
        "### Categorical data types"
      ]
    },
    {
      "cell_type": "code",
      "execution_count": 5,
      "metadata": {
        "id": "7"
      },
      "outputs": [],
      "source": [
        "# Iris 'class' attribute is currently an 'object' but is really categorical\n",
        "iris_df[\"flower_type\"] = iris_df[\"class\"].astype(\"category\")"
      ]
    },
    {
      "cell_type": "markdown",
      "metadata": {
        "id": "8"
      },
      "source": [
        "### Dropping variables"
      ]
    },
    {
      "cell_type": "code",
      "execution_count": 6,
      "metadata": {
        "id": "9"
      },
      "outputs": [],
      "source": [
        "# https://pandas.pydata.org/docs/reference/api/pandas.DataFrame.drop.html\n",
        "iris_df.drop(\"class\", axis=1, inplace=True)\n",
        "# This is equivalent to:\n",
        "# iris_df.drop(columns=[\"class\"], inplace=True)"
      ]
    },
    {
      "cell_type": "markdown",
      "metadata": {
        "id": "cmN-qg8Qw2h1"
      },
      "source": [
        "# Dropping Observations/ rows of data\n",
        "\n",
        "Say I want to make a sample selection/ filter the sample according to two conditions:\n",
        "I would like to only look at samples that:\n",
        "1.\tHave a petal_length value >2.5 AND that have a petal_width value >1.5\n",
        "2.\tHave a (petal_length value >2.5 AND that have a petal_width value >1.5) OR petal_length value <2.5\n"
      ]
    },
    {
      "cell_type": "code",
      "execution_count": 7,
      "metadata": {
        "id": "Sq0CbyO8w2h2",
        "outputId": "9d51b018-dff8-4fe4-f6dc-fa9590e98507",
        "colab": {
          "base_uri": "https://localhost:8080/"
        }
      },
      "outputs": [
        {
          "output_type": "stream",
          "name": "stdout",
          "text": [
            "     sepal_length  sepal_width  petal_length  petal_width  petal_area  \\\n",
            "56            6.3          3.3           4.7          1.6        7.52   \n",
            "70            5.9          3.2           4.8          1.8        8.64   \n",
            "77            6.7          3.0           5.0          1.7        8.50   \n",
            "83            6.0          2.7           5.1          1.6        8.16   \n",
            "85            6.0          3.4           4.5          1.6        7.20   \n",
            "100           6.3          3.3           6.0          2.5       15.00   \n",
            "101           5.8          2.7           5.1          1.9        9.69   \n",
            "102           7.1          3.0           5.9          2.1       12.39   \n",
            "103           6.3          2.9           5.6          1.8       10.08   \n",
            "104           6.5          3.0           5.8          2.2       12.76   \n",
            "105           7.6          3.0           6.6          2.1       13.86   \n",
            "106           4.9          2.5           4.5          1.7        7.65   \n",
            "107           7.3          2.9           6.3          1.8       11.34   \n",
            "108           6.7          2.5           5.8          1.8       10.44   \n",
            "109           7.2          3.6           6.1          2.5       15.25   \n",
            "110           6.5          3.2           5.1          2.0       10.20   \n",
            "111           6.4          2.7           5.3          1.9       10.07   \n",
            "112           6.8          3.0           5.5          2.1       11.55   \n",
            "113           5.7          2.5           5.0          2.0       10.00   \n",
            "114           5.8          2.8           5.1          2.4       12.24   \n",
            "\n",
            "     sepal_mean      flower_type  \n",
            "56         4.80  Iris-versicolor  \n",
            "70         4.55  Iris-versicolor  \n",
            "77         4.85  Iris-versicolor  \n",
            "83         4.35  Iris-versicolor  \n",
            "85         4.70  Iris-versicolor  \n",
            "100        4.80   Iris-virginica  \n",
            "101        4.25   Iris-virginica  \n",
            "102        5.05   Iris-virginica  \n",
            "103        4.60   Iris-virginica  \n",
            "104        4.75   Iris-virginica  \n",
            "105        5.30   Iris-virginica  \n",
            "106        3.70   Iris-virginica  \n",
            "107        5.10   Iris-virginica  \n",
            "108        4.60   Iris-virginica  \n",
            "109        5.40   Iris-virginica  \n",
            "110        4.85   Iris-virginica  \n",
            "111        4.55   Iris-virginica  \n",
            "112        4.90   Iris-virginica  \n",
            "113        4.10   Iris-virginica  \n",
            "114        4.30   Iris-virginica  \n"
          ]
        }
      ],
      "source": [
        "iris_df_2=iris_df[(iris_df.petal_length > 2.5) & (iris_df.petal_width >1.5)].copy()\n",
        "print(iris_df_2.head(n=20))"
      ]
    },
    {
      "cell_type": "code",
      "execution_count": 8,
      "metadata": {
        "id": "zgDZi5n2w2h2",
        "outputId": "a68382fb-1358-49c8-d4af-b9a5b6013cd4",
        "colab": {
          "base_uri": "https://localhost:8080/"
        }
      },
      "outputs": [
        {
          "output_type": "stream",
          "name": "stdout",
          "text": [
            "    sepal_length  sepal_width  petal_length  petal_width  petal_area  \\\n",
            "0            5.1          3.5           1.4          0.2        0.28   \n",
            "1            4.9          3.0           1.4          0.2        0.28   \n",
            "2            4.7          3.2           1.3          0.2        0.26   \n",
            "3            4.6          3.1           1.5          0.2        0.30   \n",
            "4            5.0          3.6           1.4          0.2        0.28   \n",
            "5            5.4          3.9           1.7          0.4        0.68   \n",
            "6            4.6          3.4           1.4          0.3        0.42   \n",
            "7            5.0          3.4           1.5          0.2        0.30   \n",
            "8            4.4          2.9           1.4          0.2        0.28   \n",
            "9            4.9          3.1           1.5          0.1        0.15   \n",
            "10           5.4          3.7           1.5          0.2        0.30   \n",
            "11           4.8          3.4           1.6          0.2        0.32   \n",
            "12           4.8          3.0           1.4          0.1        0.14   \n",
            "13           4.3          3.0           1.1          0.1        0.11   \n",
            "14           5.8          4.0           1.2          0.2        0.24   \n",
            "15           5.7          4.4           1.5          0.4        0.60   \n",
            "16           5.4          3.9           1.3          0.4        0.52   \n",
            "17           5.1          3.5           1.4          0.3        0.42   \n",
            "18           5.7          3.8           1.7          0.3        0.51   \n",
            "19           5.1          3.8           1.5          0.3        0.45   \n",
            "\n",
            "    sepal_mean  flower_type  \n",
            "0         4.30  Iris-setosa  \n",
            "1         3.95  Iris-setosa  \n",
            "2         3.95  Iris-setosa  \n",
            "3         3.85  Iris-setosa  \n",
            "4         4.30  Iris-setosa  \n",
            "5         4.65  Iris-setosa  \n",
            "6         4.00  Iris-setosa  \n",
            "7         4.20  Iris-setosa  \n",
            "8         3.65  Iris-setosa  \n",
            "9         4.00  Iris-setosa  \n",
            "10        4.55  Iris-setosa  \n",
            "11        4.10  Iris-setosa  \n",
            "12        3.90  Iris-setosa  \n",
            "13        3.65  Iris-setosa  \n",
            "14        4.90  Iris-setosa  \n",
            "15        5.05  Iris-setosa  \n",
            "16        4.65  Iris-setosa  \n",
            "17        4.30  Iris-setosa  \n",
            "18        4.75  Iris-setosa  \n",
            "19        4.45  Iris-setosa  \n"
          ]
        }
      ],
      "source": [
        "iris_df_3=iris_df[((iris_df.petal_length > 2.5) & (iris_df.petal_width >1.5)) | iris_df.petal_length <2.5].copy()\n",
        "print(iris_df_3.head(n=20))"
      ]
    },
    {
      "cell_type": "markdown",
      "metadata": {
        "id": "10"
      },
      "source": [
        "## Statistics\n",
        "\n",
        "### Basic Descriptives"
      ]
    },
    {
      "cell_type": "code",
      "execution_count": 9,
      "metadata": {
        "id": "11",
        "outputId": "df4a045a-3502-4282-c12d-f10b34cab0b6",
        "colab": {
          "base_uri": "https://localhost:8080/"
        }
      },
      "outputs": [
        {
          "output_type": "stream",
          "name": "stdout",
          "text": [
            "       sepal_length  sepal_width  petal_length  petal_width\n",
            "count    150.000000   150.000000    150.000000   150.000000\n",
            "mean       5.843333     3.054000      3.758667     1.198667\n",
            "std        0.828066     0.433594      1.764420     0.763161\n",
            "min        4.300000     2.000000      1.000000     0.100000\n",
            "25%        5.100000     2.800000      1.600000     0.300000\n",
            "50%        5.800000     3.000000      4.350000     1.300000\n",
            "75%        6.400000     3.300000      5.100000     1.800000\n",
            "max        7.900000     4.400000      6.900000     2.500000\n"
          ]
        }
      ],
      "source": [
        "# https://pandas.pydata.org/docs/reference/api/pandas.DataFrame.describe.html\n",
        "print(iris_df[[\"sepal_length\", \"sepal_width\", \"petal_length\", \"petal_width\"]].describe())\n",
        "# This produces the same output:\n",
        "# print(iris_df.drop(\"flower_type\", axis=1).describe())"
      ]
    },
    {
      "cell_type": "markdown",
      "metadata": {
        "id": "12"
      },
      "source": [
        "### Inter-quartile Range"
      ]
    },
    {
      "cell_type": "code",
      "execution_count": 10,
      "metadata": {
        "id": "13",
        "outputId": "f872bc23-3f54-4fed-ab76-e649ce8143d2",
        "colab": {
          "base_uri": "https://localhost:8080/"
        }
      },
      "outputs": [
        {
          "output_type": "stream",
          "name": "stdout",
          "text": [
            "Sepal length 25th percentile: 5.1\n",
            "Sepal width 25th percentile: 2.8\n",
            "Sepal length 75th percentile: 6.4\n",
            "Sepal length IQR: 1.3000000000000007\n"
          ]
        }
      ],
      "source": [
        "# First: Calculate the quantile(s) required\n",
        "# https://pandas.pydata.org/docs/reference/api/pandas.DataFrame.quantile.html\n",
        "# Note: Sepal width is not required but used to demonstrate multi-variable use\n",
        "sepal_length_q25, sepal_width_q25 = iris_df[[\"sepal_length\", \"sepal_width\"]].quantile(0.25, axis=0)\n",
        "print(f\"Sepal length 25th percentile: {sepal_length_q25}\")\n",
        "print(f\"Sepal width 25th percentile: {sepal_width_q25}\")\n",
        "# Note: Also need 75th percentile for length to calculate IQR\n",
        "sepal_length_q75 = iris_df[\"sepal_length\"].quantile(0.75)\n",
        "print(f\"Sepal length 75th percentile: {sepal_length_q75}\")\n",
        "\n",
        "# Second: Calculate the IQR = Q75 - Q25\n",
        "sepal_length_iqr = sepal_length_q75 - sepal_length_q25\n",
        "print(f\"Sepal length IQR: {sepal_length_iqr}\")"
      ]
    },
    {
      "cell_type": "markdown",
      "metadata": {
        "id": "14"
      },
      "source": [
        "### Counts / Frequency / Distribution"
      ]
    },
    {
      "cell_type": "code",
      "execution_count": 11,
      "metadata": {
        "id": "15",
        "outputId": "a9489d1b-11fa-4472-cc6d-5496546844ea",
        "colab": {
          "base_uri": "https://localhost:8080/"
        }
      },
      "outputs": [
        {
          "output_type": "stream",
          "name": "stdout",
          "text": [
            "Iris-setosa        50\n",
            "Iris-versicolor    50\n",
            "Iris-virginica     50\n",
            "Name: flower_type, dtype: int64\n"
          ]
        }
      ],
      "source": [
        "# How many of each Iris flower type are there?\n",
        "print(iris_df[\"flower_type\"].value_counts())"
      ]
    },
    {
      "cell_type": "code",
      "execution_count": 12,
      "metadata": {
        "id": "16",
        "outputId": "ec23554c-e4bb-421e-d227-cfe2632f9786",
        "colab": {
          "base_uri": "https://localhost:8080/"
        }
      },
      "outputs": [
        {
          "output_type": "stream",
          "name": "stdout",
          "text": [
            "Iris-setosa        0.333333\n",
            "Iris-versicolor    0.333333\n",
            "Iris-virginica     0.333333\n",
            "Name: flower_type, dtype: float64\n"
          ]
        }
      ],
      "source": [
        "# What is the probability distribution for each flower type?\n",
        "print(iris_df[\"flower_type\"].value_counts(normalize=True))"
      ]
    },
    {
      "cell_type": "code",
      "execution_count": 13,
      "metadata": {
        "id": "17",
        "outputId": "d293c3c5-305c-448b-af9a-82a018f22805",
        "colab": {
          "base_uri": "https://localhost:8080/",
          "height": 143
        }
      },
      "outputs": [
        {
          "output_type": "execute_result",
          "data": {
            "text/plain": [
              "sepal_width_big   False  True \n",
              "sepal_length_big              \n",
              "False                38     42\n",
              "True                 45     25"
            ],
            "text/html": [
              "\n",
              "  <div id=\"df-2c5a1f1d-981e-42c0-8355-cc2ed2aaafda\">\n",
              "    <div class=\"colab-df-container\">\n",
              "      <div>\n",
              "<style scoped>\n",
              "    .dataframe tbody tr th:only-of-type {\n",
              "        vertical-align: middle;\n",
              "    }\n",
              "\n",
              "    .dataframe tbody tr th {\n",
              "        vertical-align: top;\n",
              "    }\n",
              "\n",
              "    .dataframe thead th {\n",
              "        text-align: right;\n",
              "    }\n",
              "</style>\n",
              "<table border=\"1\" class=\"dataframe\">\n",
              "  <thead>\n",
              "    <tr style=\"text-align: right;\">\n",
              "      <th>sepal_width_big</th>\n",
              "      <th>False</th>\n",
              "      <th>True</th>\n",
              "    </tr>\n",
              "    <tr>\n",
              "      <th>sepal_length_big</th>\n",
              "      <th></th>\n",
              "      <th></th>\n",
              "    </tr>\n",
              "  </thead>\n",
              "  <tbody>\n",
              "    <tr>\n",
              "      <th>False</th>\n",
              "      <td>38</td>\n",
              "      <td>42</td>\n",
              "    </tr>\n",
              "    <tr>\n",
              "      <th>True</th>\n",
              "      <td>45</td>\n",
              "      <td>25</td>\n",
              "    </tr>\n",
              "  </tbody>\n",
              "</table>\n",
              "</div>\n",
              "      <button class=\"colab-df-convert\" onclick=\"convertToInteractive('df-2c5a1f1d-981e-42c0-8355-cc2ed2aaafda')\"\n",
              "              title=\"Convert this dataframe to an interactive table.\"\n",
              "              style=\"display:none;\">\n",
              "        \n",
              "  <svg xmlns=\"http://www.w3.org/2000/svg\" height=\"24px\"viewBox=\"0 0 24 24\"\n",
              "       width=\"24px\">\n",
              "    <path d=\"M0 0h24v24H0V0z\" fill=\"none\"/>\n",
              "    <path d=\"M18.56 5.44l.94 2.06.94-2.06 2.06-.94-2.06-.94-.94-2.06-.94 2.06-2.06.94zm-11 1L8.5 8.5l.94-2.06 2.06-.94-2.06-.94L8.5 2.5l-.94 2.06-2.06.94zm10 10l.94 2.06.94-2.06 2.06-.94-2.06-.94-.94-2.06-.94 2.06-2.06.94z\"/><path d=\"M17.41 7.96l-1.37-1.37c-.4-.4-.92-.59-1.43-.59-.52 0-1.04.2-1.43.59L10.3 9.45l-7.72 7.72c-.78.78-.78 2.05 0 2.83L4 21.41c.39.39.9.59 1.41.59.51 0 1.02-.2 1.41-.59l7.78-7.78 2.81-2.81c.8-.78.8-2.07 0-2.86zM5.41 20L4 18.59l7.72-7.72 1.47 1.35L5.41 20z\"/>\n",
              "  </svg>\n",
              "      </button>\n",
              "      \n",
              "  <style>\n",
              "    .colab-df-container {\n",
              "      display:flex;\n",
              "      flex-wrap:wrap;\n",
              "      gap: 12px;\n",
              "    }\n",
              "\n",
              "    .colab-df-convert {\n",
              "      background-color: #E8F0FE;\n",
              "      border: none;\n",
              "      border-radius: 50%;\n",
              "      cursor: pointer;\n",
              "      display: none;\n",
              "      fill: #1967D2;\n",
              "      height: 32px;\n",
              "      padding: 0 0 0 0;\n",
              "      width: 32px;\n",
              "    }\n",
              "\n",
              "    .colab-df-convert:hover {\n",
              "      background-color: #E2EBFA;\n",
              "      box-shadow: 0px 1px 2px rgba(60, 64, 67, 0.3), 0px 1px 3px 1px rgba(60, 64, 67, 0.15);\n",
              "      fill: #174EA6;\n",
              "    }\n",
              "\n",
              "    [theme=dark] .colab-df-convert {\n",
              "      background-color: #3B4455;\n",
              "      fill: #D2E3FC;\n",
              "    }\n",
              "\n",
              "    [theme=dark] .colab-df-convert:hover {\n",
              "      background-color: #434B5C;\n",
              "      box-shadow: 0px 1px 3px 1px rgba(0, 0, 0, 0.15);\n",
              "      filter: drop-shadow(0px 1px 2px rgba(0, 0, 0, 0.3));\n",
              "      fill: #FFFFFF;\n",
              "    }\n",
              "  </style>\n",
              "\n",
              "      <script>\n",
              "        const buttonEl =\n",
              "          document.querySelector('#df-2c5a1f1d-981e-42c0-8355-cc2ed2aaafda button.colab-df-convert');\n",
              "        buttonEl.style.display =\n",
              "          google.colab.kernel.accessAllowed ? 'block' : 'none';\n",
              "\n",
              "        async function convertToInteractive(key) {\n",
              "          const element = document.querySelector('#df-2c5a1f1d-981e-42c0-8355-cc2ed2aaafda');\n",
              "          const dataTable =\n",
              "            await google.colab.kernel.invokeFunction('convertToInteractive',\n",
              "                                                     [key], {});\n",
              "          if (!dataTable) return;\n",
              "\n",
              "          const docLinkHtml = 'Like what you see? Visit the ' +\n",
              "            '<a target=\"_blank\" href=https://colab.research.google.com/notebooks/data_table.ipynb>data table notebook</a>'\n",
              "            + ' to learn more about interactive tables.';\n",
              "          element.innerHTML = '';\n",
              "          dataTable['output_type'] = 'display_data';\n",
              "          await google.colab.output.renderOutput(dataTable, element);\n",
              "          const docLink = document.createElement('div');\n",
              "          docLink.innerHTML = docLinkHtml;\n",
              "          element.appendChild(docLink);\n",
              "        }\n",
              "      </script>\n",
              "    </div>\n",
              "  </div>\n",
              "  "
            ]
          },
          "metadata": {},
          "execution_count": 13
        }
      ],
      "source": [
        "# Cross tabulation\n",
        "# Create indicators for sepal length and width above or below mean\n",
        "iris_df[\"sepal_length_big\"] = iris_df[\"sepal_length\"]>iris_df[\"sepal_length\"].mean()\n",
        "iris_df[\"sepal_width_big\"] = iris_df[\"sepal_width\"]>iris_df[\"sepal_width\"].mean()\n",
        "# https://pandas.pydata.org/docs/reference/api/pandas.crosstab.html\n",
        "pd.crosstab(iris_df[\"sepal_length_big\"], iris_df[\"sepal_width_big\"])"
      ]
    },
    {
      "cell_type": "code",
      "execution_count": 14,
      "metadata": {
        "id": "18",
        "outputId": "398fda0b-853a-4ac0-c757-f6d2559fa473",
        "colab": {
          "base_uri": "https://localhost:8080/",
          "height": 143
        }
      },
      "outputs": [
        {
          "output_type": "execute_result",
          "data": {
            "text/plain": [
              "sepal_width_big      False     True \n",
              "sepal_length_big                    \n",
              "False             0.253333  0.280000\n",
              "True              0.300000  0.166667"
            ],
            "text/html": [
              "\n",
              "  <div id=\"df-112dcec8-24f1-4468-a5a1-2fd284ca48b2\">\n",
              "    <div class=\"colab-df-container\">\n",
              "      <div>\n",
              "<style scoped>\n",
              "    .dataframe tbody tr th:only-of-type {\n",
              "        vertical-align: middle;\n",
              "    }\n",
              "\n",
              "    .dataframe tbody tr th {\n",
              "        vertical-align: top;\n",
              "    }\n",
              "\n",
              "    .dataframe thead th {\n",
              "        text-align: right;\n",
              "    }\n",
              "</style>\n",
              "<table border=\"1\" class=\"dataframe\">\n",
              "  <thead>\n",
              "    <tr style=\"text-align: right;\">\n",
              "      <th>sepal_width_big</th>\n",
              "      <th>False</th>\n",
              "      <th>True</th>\n",
              "    </tr>\n",
              "    <tr>\n",
              "      <th>sepal_length_big</th>\n",
              "      <th></th>\n",
              "      <th></th>\n",
              "    </tr>\n",
              "  </thead>\n",
              "  <tbody>\n",
              "    <tr>\n",
              "      <th>False</th>\n",
              "      <td>0.253333</td>\n",
              "      <td>0.280000</td>\n",
              "    </tr>\n",
              "    <tr>\n",
              "      <th>True</th>\n",
              "      <td>0.300000</td>\n",
              "      <td>0.166667</td>\n",
              "    </tr>\n",
              "  </tbody>\n",
              "</table>\n",
              "</div>\n",
              "      <button class=\"colab-df-convert\" onclick=\"convertToInteractive('df-112dcec8-24f1-4468-a5a1-2fd284ca48b2')\"\n",
              "              title=\"Convert this dataframe to an interactive table.\"\n",
              "              style=\"display:none;\">\n",
              "        \n",
              "  <svg xmlns=\"http://www.w3.org/2000/svg\" height=\"24px\"viewBox=\"0 0 24 24\"\n",
              "       width=\"24px\">\n",
              "    <path d=\"M0 0h24v24H0V0z\" fill=\"none\"/>\n",
              "    <path d=\"M18.56 5.44l.94 2.06.94-2.06 2.06-.94-2.06-.94-.94-2.06-.94 2.06-2.06.94zm-11 1L8.5 8.5l.94-2.06 2.06-.94-2.06-.94L8.5 2.5l-.94 2.06-2.06.94zm10 10l.94 2.06.94-2.06 2.06-.94-2.06-.94-.94-2.06-.94 2.06-2.06.94z\"/><path d=\"M17.41 7.96l-1.37-1.37c-.4-.4-.92-.59-1.43-.59-.52 0-1.04.2-1.43.59L10.3 9.45l-7.72 7.72c-.78.78-.78 2.05 0 2.83L4 21.41c.39.39.9.59 1.41.59.51 0 1.02-.2 1.41-.59l7.78-7.78 2.81-2.81c.8-.78.8-2.07 0-2.86zM5.41 20L4 18.59l7.72-7.72 1.47 1.35L5.41 20z\"/>\n",
              "  </svg>\n",
              "      </button>\n",
              "      \n",
              "  <style>\n",
              "    .colab-df-container {\n",
              "      display:flex;\n",
              "      flex-wrap:wrap;\n",
              "      gap: 12px;\n",
              "    }\n",
              "\n",
              "    .colab-df-convert {\n",
              "      background-color: #E8F0FE;\n",
              "      border: none;\n",
              "      border-radius: 50%;\n",
              "      cursor: pointer;\n",
              "      display: none;\n",
              "      fill: #1967D2;\n",
              "      height: 32px;\n",
              "      padding: 0 0 0 0;\n",
              "      width: 32px;\n",
              "    }\n",
              "\n",
              "    .colab-df-convert:hover {\n",
              "      background-color: #E2EBFA;\n",
              "      box-shadow: 0px 1px 2px rgba(60, 64, 67, 0.3), 0px 1px 3px 1px rgba(60, 64, 67, 0.15);\n",
              "      fill: #174EA6;\n",
              "    }\n",
              "\n",
              "    [theme=dark] .colab-df-convert {\n",
              "      background-color: #3B4455;\n",
              "      fill: #D2E3FC;\n",
              "    }\n",
              "\n",
              "    [theme=dark] .colab-df-convert:hover {\n",
              "      background-color: #434B5C;\n",
              "      box-shadow: 0px 1px 3px 1px rgba(0, 0, 0, 0.15);\n",
              "      filter: drop-shadow(0px 1px 2px rgba(0, 0, 0, 0.3));\n",
              "      fill: #FFFFFF;\n",
              "    }\n",
              "  </style>\n",
              "\n",
              "      <script>\n",
              "        const buttonEl =\n",
              "          document.querySelector('#df-112dcec8-24f1-4468-a5a1-2fd284ca48b2 button.colab-df-convert');\n",
              "        buttonEl.style.display =\n",
              "          google.colab.kernel.accessAllowed ? 'block' : 'none';\n",
              "\n",
              "        async function convertToInteractive(key) {\n",
              "          const element = document.querySelector('#df-112dcec8-24f1-4468-a5a1-2fd284ca48b2');\n",
              "          const dataTable =\n",
              "            await google.colab.kernel.invokeFunction('convertToInteractive',\n",
              "                                                     [key], {});\n",
              "          if (!dataTable) return;\n",
              "\n",
              "          const docLinkHtml = 'Like what you see? Visit the ' +\n",
              "            '<a target=\"_blank\" href=https://colab.research.google.com/notebooks/data_table.ipynb>data table notebook</a>'\n",
              "            + ' to learn more about interactive tables.';\n",
              "          element.innerHTML = '';\n",
              "          dataTable['output_type'] = 'display_data';\n",
              "          await google.colab.output.renderOutput(dataTable, element);\n",
              "          const docLink = document.createElement('div');\n",
              "          docLink.innerHTML = docLinkHtml;\n",
              "          element.appendChild(docLink);\n",
              "        }\n",
              "      </script>\n",
              "    </div>\n",
              "  </div>\n",
              "  "
            ]
          },
          "metadata": {},
          "execution_count": 14
        }
      ],
      "source": [
        "# Percentage cross tabulation defaults to percentage of all values\n",
        "pd.crosstab(iris_df[\"sepal_length_big\"], iris_df[\"sepal_width_big\"], normalize=True)"
      ]
    },
    {
      "cell_type": "code",
      "execution_count": 15,
      "metadata": {
        "id": "19",
        "outputId": "2c5a449b-a714-4745-e0d1-af06bd378d79",
        "colab": {
          "base_uri": "https://localhost:8080/",
          "height": 143
        }
      },
      "outputs": [
        {
          "output_type": "execute_result",
          "data": {
            "text/plain": [
              "sepal_width_big      False     True \n",
              "sepal_length_big                    \n",
              "False             0.457831  0.626866\n",
              "True              0.542169  0.373134"
            ],
            "text/html": [
              "\n",
              "  <div id=\"df-580d14c2-eed4-4c76-9d98-3c1ac03a4910\">\n",
              "    <div class=\"colab-df-container\">\n",
              "      <div>\n",
              "<style scoped>\n",
              "    .dataframe tbody tr th:only-of-type {\n",
              "        vertical-align: middle;\n",
              "    }\n",
              "\n",
              "    .dataframe tbody tr th {\n",
              "        vertical-align: top;\n",
              "    }\n",
              "\n",
              "    .dataframe thead th {\n",
              "        text-align: right;\n",
              "    }\n",
              "</style>\n",
              "<table border=\"1\" class=\"dataframe\">\n",
              "  <thead>\n",
              "    <tr style=\"text-align: right;\">\n",
              "      <th>sepal_width_big</th>\n",
              "      <th>False</th>\n",
              "      <th>True</th>\n",
              "    </tr>\n",
              "    <tr>\n",
              "      <th>sepal_length_big</th>\n",
              "      <th></th>\n",
              "      <th></th>\n",
              "    </tr>\n",
              "  </thead>\n",
              "  <tbody>\n",
              "    <tr>\n",
              "      <th>False</th>\n",
              "      <td>0.457831</td>\n",
              "      <td>0.626866</td>\n",
              "    </tr>\n",
              "    <tr>\n",
              "      <th>True</th>\n",
              "      <td>0.542169</td>\n",
              "      <td>0.373134</td>\n",
              "    </tr>\n",
              "  </tbody>\n",
              "</table>\n",
              "</div>\n",
              "      <button class=\"colab-df-convert\" onclick=\"convertToInteractive('df-580d14c2-eed4-4c76-9d98-3c1ac03a4910')\"\n",
              "              title=\"Convert this dataframe to an interactive table.\"\n",
              "              style=\"display:none;\">\n",
              "        \n",
              "  <svg xmlns=\"http://www.w3.org/2000/svg\" height=\"24px\"viewBox=\"0 0 24 24\"\n",
              "       width=\"24px\">\n",
              "    <path d=\"M0 0h24v24H0V0z\" fill=\"none\"/>\n",
              "    <path d=\"M18.56 5.44l.94 2.06.94-2.06 2.06-.94-2.06-.94-.94-2.06-.94 2.06-2.06.94zm-11 1L8.5 8.5l.94-2.06 2.06-.94-2.06-.94L8.5 2.5l-.94 2.06-2.06.94zm10 10l.94 2.06.94-2.06 2.06-.94-2.06-.94-.94-2.06-.94 2.06-2.06.94z\"/><path d=\"M17.41 7.96l-1.37-1.37c-.4-.4-.92-.59-1.43-.59-.52 0-1.04.2-1.43.59L10.3 9.45l-7.72 7.72c-.78.78-.78 2.05 0 2.83L4 21.41c.39.39.9.59 1.41.59.51 0 1.02-.2 1.41-.59l7.78-7.78 2.81-2.81c.8-.78.8-2.07 0-2.86zM5.41 20L4 18.59l7.72-7.72 1.47 1.35L5.41 20z\"/>\n",
              "  </svg>\n",
              "      </button>\n",
              "      \n",
              "  <style>\n",
              "    .colab-df-container {\n",
              "      display:flex;\n",
              "      flex-wrap:wrap;\n",
              "      gap: 12px;\n",
              "    }\n",
              "\n",
              "    .colab-df-convert {\n",
              "      background-color: #E8F0FE;\n",
              "      border: none;\n",
              "      border-radius: 50%;\n",
              "      cursor: pointer;\n",
              "      display: none;\n",
              "      fill: #1967D2;\n",
              "      height: 32px;\n",
              "      padding: 0 0 0 0;\n",
              "      width: 32px;\n",
              "    }\n",
              "\n",
              "    .colab-df-convert:hover {\n",
              "      background-color: #E2EBFA;\n",
              "      box-shadow: 0px 1px 2px rgba(60, 64, 67, 0.3), 0px 1px 3px 1px rgba(60, 64, 67, 0.15);\n",
              "      fill: #174EA6;\n",
              "    }\n",
              "\n",
              "    [theme=dark] .colab-df-convert {\n",
              "      background-color: #3B4455;\n",
              "      fill: #D2E3FC;\n",
              "    }\n",
              "\n",
              "    [theme=dark] .colab-df-convert:hover {\n",
              "      background-color: #434B5C;\n",
              "      box-shadow: 0px 1px 3px 1px rgba(0, 0, 0, 0.15);\n",
              "      filter: drop-shadow(0px 1px 2px rgba(0, 0, 0, 0.3));\n",
              "      fill: #FFFFFF;\n",
              "    }\n",
              "  </style>\n",
              "\n",
              "      <script>\n",
              "        const buttonEl =\n",
              "          document.querySelector('#df-580d14c2-eed4-4c76-9d98-3c1ac03a4910 button.colab-df-convert');\n",
              "        buttonEl.style.display =\n",
              "          google.colab.kernel.accessAllowed ? 'block' : 'none';\n",
              "\n",
              "        async function convertToInteractive(key) {\n",
              "          const element = document.querySelector('#df-580d14c2-eed4-4c76-9d98-3c1ac03a4910');\n",
              "          const dataTable =\n",
              "            await google.colab.kernel.invokeFunction('convertToInteractive',\n",
              "                                                     [key], {});\n",
              "          if (!dataTable) return;\n",
              "\n",
              "          const docLinkHtml = 'Like what you see? Visit the ' +\n",
              "            '<a target=\"_blank\" href=https://colab.research.google.com/notebooks/data_table.ipynb>data table notebook</a>'\n",
              "            + ' to learn more about interactive tables.';\n",
              "          element.innerHTML = '';\n",
              "          dataTable['output_type'] = 'display_data';\n",
              "          await google.colab.output.renderOutput(dataTable, element);\n",
              "          const docLink = document.createElement('div');\n",
              "          docLink.innerHTML = docLinkHtml;\n",
              "          element.appendChild(docLink);\n",
              "        }\n",
              "      </script>\n",
              "    </div>\n",
              "  </div>\n",
              "  "
            ]
          },
          "metadata": {},
          "execution_count": 15
        }
      ],
      "source": [
        "# Change this by normalize parameter (see documentation)\n",
        "pd.crosstab(iris_df[\"sepal_length_big\"], iris_df[\"sepal_width_big\"], normalize='columns')"
      ]
    },
    {
      "cell_type": "markdown",
      "metadata": {
        "id": "20"
      },
      "source": [
        "### Correlation"
      ]
    },
    {
      "cell_type": "code",
      "execution_count": 16,
      "metadata": {
        "id": "21",
        "outputId": "eda0cbeb-01f2-4f2b-cf7a-2f581cd901af",
        "colab": {
          "base_uri": "https://localhost:8080/",
          "height": 112
        }
      },
      "outputs": [
        {
          "output_type": "execute_result",
          "data": {
            "text/plain": [
              "            sepal_mean  petal_area\n",
              "sepal_mean    1.000000    0.659683\n",
              "petal_area    0.659683    1.000000"
            ],
            "text/html": [
              "\n",
              "  <div id=\"df-f8082942-05f3-40ec-8d46-d035cc5a8750\">\n",
              "    <div class=\"colab-df-container\">\n",
              "      <div>\n",
              "<style scoped>\n",
              "    .dataframe tbody tr th:only-of-type {\n",
              "        vertical-align: middle;\n",
              "    }\n",
              "\n",
              "    .dataframe tbody tr th {\n",
              "        vertical-align: top;\n",
              "    }\n",
              "\n",
              "    .dataframe thead th {\n",
              "        text-align: right;\n",
              "    }\n",
              "</style>\n",
              "<table border=\"1\" class=\"dataframe\">\n",
              "  <thead>\n",
              "    <tr style=\"text-align: right;\">\n",
              "      <th></th>\n",
              "      <th>sepal_mean</th>\n",
              "      <th>petal_area</th>\n",
              "    </tr>\n",
              "  </thead>\n",
              "  <tbody>\n",
              "    <tr>\n",
              "      <th>sepal_mean</th>\n",
              "      <td>1.000000</td>\n",
              "      <td>0.659683</td>\n",
              "    </tr>\n",
              "    <tr>\n",
              "      <th>petal_area</th>\n",
              "      <td>0.659683</td>\n",
              "      <td>1.000000</td>\n",
              "    </tr>\n",
              "  </tbody>\n",
              "</table>\n",
              "</div>\n",
              "      <button class=\"colab-df-convert\" onclick=\"convertToInteractive('df-f8082942-05f3-40ec-8d46-d035cc5a8750')\"\n",
              "              title=\"Convert this dataframe to an interactive table.\"\n",
              "              style=\"display:none;\">\n",
              "        \n",
              "  <svg xmlns=\"http://www.w3.org/2000/svg\" height=\"24px\"viewBox=\"0 0 24 24\"\n",
              "       width=\"24px\">\n",
              "    <path d=\"M0 0h24v24H0V0z\" fill=\"none\"/>\n",
              "    <path d=\"M18.56 5.44l.94 2.06.94-2.06 2.06-.94-2.06-.94-.94-2.06-.94 2.06-2.06.94zm-11 1L8.5 8.5l.94-2.06 2.06-.94-2.06-.94L8.5 2.5l-.94 2.06-2.06.94zm10 10l.94 2.06.94-2.06 2.06-.94-2.06-.94-.94-2.06-.94 2.06-2.06.94z\"/><path d=\"M17.41 7.96l-1.37-1.37c-.4-.4-.92-.59-1.43-.59-.52 0-1.04.2-1.43.59L10.3 9.45l-7.72 7.72c-.78.78-.78 2.05 0 2.83L4 21.41c.39.39.9.59 1.41.59.51 0 1.02-.2 1.41-.59l7.78-7.78 2.81-2.81c.8-.78.8-2.07 0-2.86zM5.41 20L4 18.59l7.72-7.72 1.47 1.35L5.41 20z\"/>\n",
              "  </svg>\n",
              "      </button>\n",
              "      \n",
              "  <style>\n",
              "    .colab-df-container {\n",
              "      display:flex;\n",
              "      flex-wrap:wrap;\n",
              "      gap: 12px;\n",
              "    }\n",
              "\n",
              "    .colab-df-convert {\n",
              "      background-color: #E8F0FE;\n",
              "      border: none;\n",
              "      border-radius: 50%;\n",
              "      cursor: pointer;\n",
              "      display: none;\n",
              "      fill: #1967D2;\n",
              "      height: 32px;\n",
              "      padding: 0 0 0 0;\n",
              "      width: 32px;\n",
              "    }\n",
              "\n",
              "    .colab-df-convert:hover {\n",
              "      background-color: #E2EBFA;\n",
              "      box-shadow: 0px 1px 2px rgba(60, 64, 67, 0.3), 0px 1px 3px 1px rgba(60, 64, 67, 0.15);\n",
              "      fill: #174EA6;\n",
              "    }\n",
              "\n",
              "    [theme=dark] .colab-df-convert {\n",
              "      background-color: #3B4455;\n",
              "      fill: #D2E3FC;\n",
              "    }\n",
              "\n",
              "    [theme=dark] .colab-df-convert:hover {\n",
              "      background-color: #434B5C;\n",
              "      box-shadow: 0px 1px 3px 1px rgba(0, 0, 0, 0.15);\n",
              "      filter: drop-shadow(0px 1px 2px rgba(0, 0, 0, 0.3));\n",
              "      fill: #FFFFFF;\n",
              "    }\n",
              "  </style>\n",
              "\n",
              "      <script>\n",
              "        const buttonEl =\n",
              "          document.querySelector('#df-f8082942-05f3-40ec-8d46-d035cc5a8750 button.colab-df-convert');\n",
              "        buttonEl.style.display =\n",
              "          google.colab.kernel.accessAllowed ? 'block' : 'none';\n",
              "\n",
              "        async function convertToInteractive(key) {\n",
              "          const element = document.querySelector('#df-f8082942-05f3-40ec-8d46-d035cc5a8750');\n",
              "          const dataTable =\n",
              "            await google.colab.kernel.invokeFunction('convertToInteractive',\n",
              "                                                     [key], {});\n",
              "          if (!dataTable) return;\n",
              "\n",
              "          const docLinkHtml = 'Like what you see? Visit the ' +\n",
              "            '<a target=\"_blank\" href=https://colab.research.google.com/notebooks/data_table.ipynb>data table notebook</a>'\n",
              "            + ' to learn more about interactive tables.';\n",
              "          element.innerHTML = '';\n",
              "          dataTable['output_type'] = 'display_data';\n",
              "          await google.colab.output.renderOutput(dataTable, element);\n",
              "          const docLink = document.createElement('div');\n",
              "          docLink.innerHTML = docLinkHtml;\n",
              "          element.appendChild(docLink);\n",
              "        }\n",
              "      </script>\n",
              "    </div>\n",
              "  </div>\n",
              "  "
            ]
          },
          "metadata": {},
          "execution_count": 16
        }
      ],
      "source": [
        "# Mean sepal dimension and petal area\n",
        "# https://pandas.pydata.org/docs/reference/api/pandas.DataFrame.corr.html\n",
        "iris_df[[\"sepal_mean\", \"petal_area\"]].corr()"
      ]
    },
    {
      "cell_type": "markdown",
      "metadata": {
        "id": "22"
      },
      "source": [
        "## Graphing\n",
        "\n",
        "The Seaborn Tutorial (https://seaborn.pydata.org/tutorial.html) is very useful.\n",
        "\n",
        "### Scatter Plots"
      ]
    },
    {
      "cell_type": "code",
      "execution_count": 17,
      "metadata": {
        "id": "23",
        "outputId": "d2188a24-dcfe-41d6-c017-4a2007c37b3b",
        "colab": {
          "base_uri": "https://localhost:8080/",
          "height": 472
        }
      },
      "outputs": [
        {
          "output_type": "display_data",
          "data": {
            "text/plain": [
              "<Figure size 640x480 with 1 Axes>"
            ],
            "image/png": "[encoded data removed]"
          },
          "metadata": {}
        }
      ],
      "source": [
        "# Basic scatter plot\n",
        "# https://seaborn.pydata.org/generated/seaborn.scatterplot.html\n",
        "# _ = ... is a loose convention meaning we don't care about the return value\n",
        "# Without this Jupyter Notebook will list an object reference before the graph\n",
        "_ = sns.scatterplot(data=iris_df, x=\"sepal_width\", y=\"sepal_length\")\\\n",
        "       .set(title=\"Sepal Width x Length\", xlabel=\"Width (cm)\", ylabel=\"Length (cm)\")"
      ]
    },
    {
      "cell_type": "code",
      "execution_count": 18,
      "metadata": {
        "id": "24",
        "outputId": "da612825-2e60-4d0c-9222-4c032d6b474b",
        "colab": {
          "base_uri": "https://localhost:8080/",
          "height": 472
        }
      },
      "outputs": [
        {
          "output_type": "display_data",
          "data": {
            "text/plain": [
              "<Figure size 640x480 with 1 Axes>"
            ],
            "image/png": "[encoded data removed]"
          },
          "metadata": {}
        }
      ],
      "source": [
        "# Can also separate observations by flower types\n",
        "# In this case the name of the graph variable is used but the return\n",
        "# value of setting titles and axis labels is not important.\n",
        "g = sns.scatterplot(data=iris_df, x=\"sepal_width\", y=\"sepal_length\",\n",
        "                    hue=\"flower_type\", style=\"flower_type\", palette=\"deep\")\n",
        "_ = g.set(title=\"Sepal Width x Length\", xlabel=\"Width (cm)\", ylabel=\"Length (cm)\")\n",
        "_ = g.legend(title=\"Flower Type\")"
      ]
    },
    {
      "cell_type": "code",
      "execution_count": 19,
      "metadata": {
        "id": "25",
        "outputId": "8fb715b8-b1f1-46e2-a6b8-95ba26b6c425",
        "colab": {
          "base_uri": "https://localhost:8080/",
          "height": 506
        }
      },
      "outputs": [
        {
          "output_type": "display_data",
          "data": {
            "text/plain": [
              "<Figure size 643x500 with 1 Axes>"
            ],
            "image/png": "[encoded data removed]"
          },
          "metadata": {}
        }
      ],
      "source": [
        "# Can plot linear regression lines automatically\n",
        "# https://seaborn.pydata.org/generated/seaborn.lmplot.html\n",
        "_ = sns.lmplot(data=iris_df, x=\"sepal_width\", y=\"sepal_length\", hue=\"flower_type\")"
      ]
    },
    {
      "cell_type": "markdown",
      "metadata": {
        "id": "26"
      },
      "source": [
        "### Histograms"
      ]
    },
    {
      "cell_type": "code",
      "execution_count": 20,
      "metadata": {
        "id": "27",
        "outputId": "1b8681ed-872a-408b-e245-a9b7e5706837",
        "colab": {
          "base_uri": "https://localhost:8080/",
          "height": 455
        }
      },
      "outputs": [
        {
          "output_type": "display_data",
          "data": {
            "text/plain": [
              "<Figure size 640x480 with 1 Axes>"
            ],
            "image/png": "[encoded data removed]"
          },
          "metadata": {}
        }
      ],
      "source": [
        "# Petal area percentages of 2.5cm-squared bins\n",
        "# https://seaborn.pydata.org/generated/seaborn.histplot.html\n",
        "_ = sns.histplot(data=iris_df, x=\"petal_area\", binwidth=2.5, stat='percent')"
      ]
    },
    {
      "cell_type": "markdown",
      "metadata": {
        "id": "28"
      },
      "source": [
        "### Lines"
      ]
    },
    {
      "cell_type": "code",
      "execution_count": 21,
      "metadata": {
        "id": "29",
        "outputId": "3605743c-ed0f-4db6-f16c-e7c92a0d68b6",
        "colab": {
          "base_uri": "https://localhost:8080/",
          "height": 450
        }
      },
      "outputs": [
        {
          "output_type": "display_data",
          "data": {
            "text/plain": [
              "<Figure size 640x480 with 1 Axes>"
            ],
            "image/png": "[encoded data removed]"
          },
          "metadata": {}
        }
      ],
      "source": [
        "# https://seaborn.pydata.org/generated/seaborn.lineplot.html\n",
        "_ = sns.lineplot(data=iris_df, x=\"sepal_width\", y=\"sepal_length\", hue=\"flower_type\")"
      ]
    },
    {
      "cell_type": "markdown",
      "metadata": {
        "id": "30"
      },
      "source": [
        "### Kernel Density Estimates"
      ]
    },
    {
      "cell_type": "code",
      "execution_count": 22,
      "metadata": {
        "id": "31",
        "outputId": "990dd2b4-1b6c-41b8-82e7-0bc8357a1e8e",
        "colab": {
          "base_uri": "https://localhost:8080/",
          "height": 450
        }
      },
      "outputs": [
        {
          "output_type": "display_data",
          "data": {
            "text/plain": [
              "<Figure size 640x480 with 1 Axes>"
            ],
            "image/png": "[encoded data removed]"
          },
          "metadata": {}
        }
      ],
      "source": [
        "# One dimensional KDE\n",
        "# https://seaborn.pydata.org/generated/seaborn.kdeplot.html\n",
        "_ = sns.kdeplot(data=iris_df, x=\"petal_area\", palette=\"deep\", hue=\"flower_type\")"
      ]
    },
    {
      "cell_type": "code",
      "execution_count": null,
      "metadata": {
        "id": "32"
      },
      "outputs": [],
      "source": [
        "# Two dimensional KDE\n",
        "_ = sns.kdeplot(data=iris_df, x=\"petal_width\", y=\"petal_length\", hue=\"flower_type\")\\\n",
        "       .set(title=\"Petal Length x Width Desnsity\")"
      ]
    },
    {
      "cell_type": "markdown",
      "metadata": {
        "id": "33"
      },
      "source": [
        "### Multiple plots together"
      ]
    },
    {
      "cell_type": "code",
      "execution_count": null,
      "metadata": {
        "id": "34"
      },
      "outputs": [],
      "source": [
        "# Sub-figures need to be configured manually\n",
        "# Uses the low-level features of matplotlib to create separate axes then plots onto them\n",
        "figure, axes = plt.subplots(1, 2, sharey=True, figsize=(10, 5))\n",
        "figure.suptitle(\"Distribution of Petal Width and Length\")\n",
        "_ = sns.kdeplot(data=iris_df, x=\"petal_width\", hue=\"flower_type\", palette=\"deep\", ax=axes[0])\n",
        "_ = sns.kdeplot(data=iris_df, x=\"petal_length\", hue=\"flower_type\", palette=\"deep\", ax=axes[1])"
      ]
    },
    {
      "cell_type": "code",
      "execution_count": null,
      "metadata": {
        "id": "35"
      },
      "outputs": [],
      "source": [
        "# Joint grids plot multiple forms of two variables\n",
        "# https://seaborn.pydata.org/generated/seaborn.jointplot.html\n",
        "g = sns.jointplot(data=iris_df, x=\"petal_width\", y=\"petal_length\", hue=\"flower_type\", palette=\"deep\")\n",
        "_ = g.plot_joint(sns.kdeplot)"
      ]
    },
    {
      "cell_type": "code",
      "execution_count": null,
      "metadata": {
        "id": "36"
      },
      "outputs": [],
      "source": [
        "# Pair grids put X by Y of all variables in a data frame\n",
        "# https://seaborn.pydata.org/generated/seaborn.PairGrid.html\n",
        "# You can achieve something similar with sns.pairplot but with less functionality\n",
        "g = sns.PairGrid(data=iris_df[[\"sepal_width\", \"sepal_length\", \"petal_width\", \"petal_length\", \"flower_type\"]], hue=\"flower_type\", palette=\"deep\")\n",
        "_ = g.map_diag(sns.histplot, multiple=\"dodge\")\n",
        "_ = g.map_lower(sns.kdeplot)\n",
        "_ = g.map_upper(sns.scatterplot, marker='.')\n",
        "_ = g.add_legend(title=\"Flower Type\")"
      ]
    },
    {
      "cell_type": "markdown",
      "metadata": {
        "id": "37"
      },
      "source": [
        "## Logistic Regression\n",
        "\n",
        "_Note: Logistic regression is a classification task - predicting a flower type in this case. The regression in the name comes from the model using regression to estimate probabilities and then classify based on the highest probability._\n",
        "\n",
        "The Iris dataset plots above show the _setosa_ are linearly separable from _versicolor_ and _virginica_ but that these are not.\n",
        "\n",
        "This Logistic Regression example tried to separate _setosa_ from any other type (a binary classification task).\n",
        "\n",
        "Classification only uses $petal\\_width$ and $petal\\_length$ so the decision boundary can be plotted."
      ]
    },
    {
      "cell_type": "code",
      "execution_count": null,
      "metadata": {
        "id": "38"
      },
      "outputs": [],
      "source": [
        "# # Recode the flower types into the binary classes\n",
        "# Y_TARGET = \"setosa\"\n",
        "# iris_df[Y_TARGET] = iris_df[\"flower_type\"].replace({\"Iris-setosa\": 1, \"Iris-versicolor\": 0, \"Iris-virginica\": 0})\n",
        "# print(iris_df[Y_TARGET].value_counts())"
      ]
    },
    {
      "cell_type": "markdown",
      "metadata": {
        "id": "39"
      },
      "source": [
        "The graphs above suggest petal dimensions will return good results so subset to just those features."
      ]
    },
    {
      "cell_type": "code",
      "execution_count": null,
      "metadata": {
        "id": "40"
      },
      "outputs": [],
      "source": [
        "# # Training and Test Data\n",
        "# X_FEATURES = [\"petal_width\", \"petal_length\"]\n",
        "# # https://scikit-learn.org/stable/modules/generated/sklearn.model_selection.train_test_split.html\n",
        "# # Setting random_state means the split will always be the same which sometimes is useful.\n",
        "# X_train, X_test, y_train, y_test =\\\n",
        "#     train_test_split(iris_df[X_FEATURES], iris_df[Y_TARGET], test_size=0.3, random_state=seed, stratify=iris_df[Y_TARGET])\n",
        "\n",
        "# # Output the dimensions of each of the sets\n",
        "# print(f\"X_train is {X_train.shape}\")\n",
        "# print(f\"X_test is {X_test.shape}\")\n",
        "# print(f\"y_train is {y_train.shape}\")\n",
        "# print(f\"y_test is {y_test.shape}\")"
      ]
    },
    {
      "cell_type": "code",
      "execution_count": null,
      "metadata": {
        "id": "41"
      },
      "outputs": [],
      "source": [
        "# # Logistic Regression\n",
        "# # https://scikit-learn.org/stable/modules/generated/sklearn.linear_model.LogisticRegression.html\n",
        "# lr_model = LogisticRegression(max_iter=1000)\n",
        "# lr_model.fit(X_train, y_train)\n",
        "# y_predict = lr_model.predict(X_test)"
      ]
    },
    {
      "cell_type": "code",
      "execution_count": null,
      "metadata": {
        "id": "42"
      },
      "outputs": [],
      "source": [
        "# # Report performance of classifier\n",
        "# # Note: This task achieves a perfect score\n",
        "# # https://scikit-learn.org/stable/modules/generated/sklearn.metrics.classification_report.html\n",
        "# print(classification_report(y_test, y_predict, target_names=[\"Other\", \"Setosa\"]))"
      ]
    },
    {
      "cell_type": "code",
      "execution_count": null,
      "metadata": {
        "id": "43"
      },
      "outputs": [],
      "source": [
        "# # Plot the decision boundary\n",
        "# # This assumes only TWO input features the X and Y in\n",
        "# #    y = mx + c\n",
        "\n",
        "# # The coefficients and intercepts applied to the X and Y\n",
        "# #   wY*y = wX*x + b\n",
        "# wX, wY = lr_model.coef_.T\n",
        "# b = lr_model.intercept_[0]\n",
        "# # Gradient and y-intercept for plotting (divide out wY)\n",
        "# #   y = mx + c\n",
        "# m = -wX/wY\n",
        "# c = -b/wY\n",
        "\n",
        "# # Find the minimum and maximum petal dimensions\n",
        "# # Make sure X was first feature, Y was second feature\n",
        "# xmin = iris_df[X_FEATURES[0]].min()\n",
        "# xmax = iris_df[X_FEATURES[0]].max()\n",
        "# ymin = iris_df[X_FEATURES[1]].min()\n",
        "# ymax = iris_df[X_FEATURES[1]].max()\n",
        "\n",
        "# # Calculate two points on the decision boundary\n",
        "# x_boundary = np.array([xmin, xmax])\n",
        "# y_boundary = m*x_boundary + c\n",
        "\n",
        "# # Plot the data and a line along the boundary\n",
        "# g = sns.scatterplot(data=iris_df, x=\"petal_width\", y=\"petal_length\", hue=Y_TARGET)\n",
        "# g = sns.lineplot(x=x_boundary, y=y_boundary, color='red', linestyle='--')\n"
      ]
    },
    {
      "cell_type": "markdown",
      "metadata": {
        "id": "44"
      },
      "source": [
        "Try using the exact same process to separate _versicolor_ and _virginica_ (after dropping _setosa_)."
      ]
    },
    {
      "cell_type": "code",
      "execution_count": null,
      "metadata": {
        "id": "45"
      },
      "outputs": [],
      "source": [
        "# # Create a temporary copy of the data with setosa dropped\n",
        "# # Note: All iris_df have to be replaced with tmp_df in this block\n",
        "# tmp_df = iris_df[iris_df[\"setosa\"]==0].copy()\n",
        "# # Recode the flower types into the binary classes\n",
        "# Y_TARGET = \"versicolor\"\n",
        "# tmp_df[Y_TARGET] = tmp_df[\"flower_type\"].replace({\"Iris-setosa\": 0, \"Iris-versicolor\": 1, \"Iris-virginica\": 0})\n",
        "# print(\"== Distribution ==\")\n",
        "# print(tmp_df[Y_TARGET].value_counts())\n",
        "\n",
        "# ## Training and Test Data\n",
        "# X_FEATURES = [\"petal_width\", \"petal_length\"]\n",
        "# X_train, X_test, y_train, y_test =\\\n",
        "#     train_test_split(tmp_df[X_FEATURES], tmp_df[Y_TARGET], test_size=0.3, random_state=seed, stratify=tmp_df[Y_TARGET])\n",
        "\n",
        "# # Output the dimensions of each of the sets\n",
        "# print(\"\\n== Dimensions ==\")\n",
        "# print(f\"X_train is {X_train.shape}\")\n",
        "# print(f\"X_test is {X_test.shape}\")\n",
        "# print(f\"y_train is {y_train.shape}\")\n",
        "# print(f\"y_test is {y_test.shape}\")\n",
        "\n",
        "# # Logistic Regression\n",
        "# lr_model = LogisticRegression(max_iter=1000)\n",
        "# lr_model.fit(X_train, y_train)\n",
        "# y_predict = lr_model.predict(X_test)\n",
        "\n",
        "# # Report performance of classifier\n",
        "# print(\"\\n== Classification Report ==\")\n",
        "# print(classification_report(y_test, y_predict, target_names=[\"Virginica\", \"Versicolor\"]))\n",
        "\n",
        "# # Plot the decision boundary\n",
        "# wX, wY = lr_model.coef_.T\n",
        "# b = lr_model.intercept_[0]\n",
        "# m = -wX/wY\n",
        "# c = -b/wY\n",
        "# xmin = tmp_df[X_FEATURES[0]].min()\n",
        "# xmax = tmp_df[X_FEATURES[0]].max()\n",
        "# ymin = tmp_df[X_FEATURES[1]].min()\n",
        "# ymax = tmp_df[X_FEATURES[1]].max()\n",
        "# x_boundary = np.array([xmin, xmax])\n",
        "# y_boundary = m*x_boundary + c\n",
        "# g = sns.scatterplot(data=tmp_df, x=\"petal_width\", y=\"petal_length\", hue=Y_TARGET)\n",
        "# g = sns.lineplot(x=x_boundary, y=y_boundary, color='red', linestyle='--')\n"
      ]
    },
    {
      "cell_type": "markdown",
      "metadata": {
        "id": "46"
      },
      "source": [
        "This has some errors so use a Receiver Operating Characteristic (ROC) to assess performance of _true-positive_ and _false-positive_ cases."
      ]
    },
    {
      "cell_type": "code",
      "execution_count": null,
      "metadata": {
        "id": "47"
      },
      "outputs": [],
      "source": [
        "# # Calculate the ROC and area under the curve (AUC)\n",
        "# class_probs = lr_model.predict_proba(X_test)\n",
        "# prob_versicolor = class_probs[:, 1] # all rows, column 1 (2nd column)\n",
        "# fp_rate, tp_rate, _ = roc_curve(y_test, prob_versicolor)\n",
        "# roc_auc = auc(fp_rate, tp_rate)\n",
        "\n",
        "# # Plot the ROC\n",
        "# g = sns.lineplot(x=fp_rate, y=tp_rate)\\\n",
        "#        .set(title=\"ROC\", xlabel=\"False Positive Rate\", ylabel=\"True Positive Rate\")\n",
        "# g = sns.lineplot(x=[0, 1], y=[0, 1], color='r', linestyle='--')\n",
        "# _ = g.legend(labels=[f\"AUC = {roc_auc:0.4f}\"])\n",
        "# _ = sns.move_legend(g, \"lower right\")"
      ]
    },
    {
      "cell_type": "markdown",
      "metadata": {
        "id": "48"
      },
      "source": [
        "## Decision Tree\n",
        "\n",
        "The _versicolor_ and _virginica_ could not be linearly separated using only the petal dimensions.\n",
        "\n",
        "This example uses a Decision Tree across sepal and petal dimensions to try and classify all three types."
      ]
    },
    {
      "cell_type": "code",
      "execution_count": null,
      "metadata": {
        "id": "49"
      },
      "outputs": [],
      "source": [
        "# Create an integer coding for all three of the target classes\n",
        "# https://pandas.pydata.org/docs/reference/api/pandas.factorize.html\n",
        "Y_TARGET = \"flower_target\"\n",
        "iris_df[Y_TARGET] = iris_df[\"flower_type\"].replace({\"Iris-setosa\": 1, \"Iris-versicolor\": 2, \"Iris-virginica\": 3})\n",
        "# Training and Test Data\n",
        "X_FEATURES = [\"sepal_width\", \"sepal_length\", \"petal_width\", \"petal_length\"]\n",
        "# https://scikit-learn.org/stable/modules/generated/sklearn.model_selection.train_test_split.html\n",
        "# Setting random_state means the split will always be the same which sometimes is useful.\n",
        "X_train, X_test, y_train, y_test =\\\n",
        "    train_test_split(iris_df[X_FEATURES], iris_df[Y_TARGET], test_size=0.3, random_state=seed, stratify=iris_df[Y_TARGET])\n",
        "\n",
        "# Output the dimensions of each of the sets\n",
        "print(f\"X_train is {X_train.shape}\")\n",
        "print(f\"X_test is {X_test.shape}\")\n",
        "print(f\"y_train is {y_train.shape}\")\n",
        "print(f\"y_test is {y_test.shape}\")\n",
        "\n",
        "# Setup a Decision Tree \n",
        "# https://scikit-learn.org/stable/modules/generated/sklearn.tree.DecisionTreeClassifier.html\n",
        "dt_model = DecisionTreeClassifier(criterion=\"gini\", random_state=seed)\n",
        "dt_model.fit(X_train, y_train)\n",
        "y_predict = dt_model.predict(X_test)\n",
        "\n",
        "# Report performance of classifier\n",
        "print(\"\\n== Classification Report ==\")\n",
        "print(classification_report(y_test, y_predict, target_names=[\"Setosa\", \"Versicolor\", \"Virginica\"]))"
      ]
    },
    {
      "cell_type": "markdown",
      "metadata": {
        "id": "50"
      },
      "source": [
        "Using all four of the features means accuracy and decision boundaries are more complex one alternative is to plot the decision tree itself. In this figure $X[0]$ means the first input feature $sepal\\_width$ and $X[3]$ means the fourth input feature $petal\\_length$. The $value$ line is the count of instances in each of the three classes. The tree immediately classifies all of the first class (_setosa_) on the basis of $X[3]<=2.6$ i.e. petal_length less than or equal to 2.6cm."
      ]
    },
    {
      "cell_type": "code",
      "execution_count": null,
      "metadata": {
        "id": "51"
      },
      "outputs": [],
      "source": [
        "# Plot Decision Tree using the lower-level plotting functions\n",
        "print(f\"X = {X_FEATURES}\")\n",
        "plt.figure(figsize=(12,12))\n",
        "\n",
        "\n",
        "_ = plot_tree(dt_model, filled=True, feature_names=X_FEATURES, class_names=[\"Setosa\", \"Versicolor\", \"Virginica\"])\n",
        "_ = plt.title(\"Decision Tree for Iris Dataset\")"
      ]
    },
    {
      "cell_type": "code",
      "execution_count": null,
      "metadata": {
        "id": "52"
      },
      "outputs": [],
      "source": [
        "# Print 4dp of each feature importance \n",
        "# https://scikit-learn.org/stable/modules/generated/sklearn.tree.DecisionTreeRegressor.html#sklearn.tree.DecisionTreeRegressor.feature_importances_\n",
        "# See the following for an explanation, but note this a regression example so uses MSE rather than GINI\n",
        "# https://towardsdatascience.com/feature-importance-in-decision-trees-e9450120b445\n",
        "for i, feature in enumerate(X_FEATURES):\n",
        "    print(f\"{feature}: {dt_model.feature_importances_[i]:.4f}\")"
      ]
    }
  ],
  "metadata": {
    "kernelspec": {
      "display_name": "Python 3 (ipykernel)",
      "language": "python",
      "name": "python3"
    },
    "language_info": {
      "codemirror_mode": {
        "name": "ipython",
        "version": 3
      },
      "file_extension": ".py",
      "mimetype": "text/x-python",
      "name": "python",
      "nbconvert_exporter": "python",
      "pygments_lexer": "ipython3",
      "version": "3.10.9"
    },
    "vscode": {
      "interpreter": {
        "hash": "d9e7ae6ed9dc89a319e6ea230fd199155ded056bc8dab5f3cdbc9f526b4de7d2"
      }
    },
    "colab": {
      "provenance": []
    }
  },
  "nbformat": 4,
  "nbformat_minor": 0
}