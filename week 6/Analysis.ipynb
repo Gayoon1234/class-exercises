{
 "cells": [
  {
   "cell_type": "code",
   "execution_count": null,
   "metadata": {},
   "outputs": [],
   "source": [
    "import pandas as pd\n",
    "\n",
    "df = pd.read_csv(filepath_or_buffer='./communities.data', sep=',', header=None, na_values='?', keep_default_na=True)\n",
    "column_names = ['state', 'county', 'community', 'communityname', 'fold', 'population', 'householdsize', 'racepctblack', 'racePctWhite', 'racePctAsian', 'racePctHisp', 'agePct12t21', 'agePct12t29', 'agePct16t24', 'agePct65up', 'numbUrban', 'pctUrban', 'medIncome', 'pctWWage', 'pctWFarmSelf', 'pctWInvInc', 'pctWSocSec', 'pctWPubAsst', 'pctWRetire', 'medFamInc', 'perCapInc', 'whitePerCap', 'blackPerCap', 'indianPerCap', 'AsianPerCap', 'OtherPerCap', 'HispPerCap', 'NumUnderPov', 'PctPopUnderPov', 'PctLess9thGrade', 'PctNotHSGrad', 'PctBSorMore', 'PctUnemployed', 'PctEmploy', 'PctEmplManu', 'PctEmplProfServ', 'PctOccupManu', 'PctOccupMgmtProf', 'MalePctDivorce', 'MalePctNevMarr', 'FemalePctDiv', 'TotalPctDiv', 'PersPerFam', 'PctFam2Par', 'PctKids2Par', 'PctYoungKids2Par', 'PctTeen2Par', 'PctWorkMomYoungKids', 'PctWorkMom', 'NumIlleg', 'PctIlleg', 'NumImmig', 'PctImmigRecent', 'PctImmigRec5', 'PctImmigRec8', 'PctImmigRec10', 'PctRecentImmig', 'PctRecImmig5', 'PctRecImmig8', 'PctRecImmig10', 'PctSpeakEnglOnly', 'PctNotSpeakEnglWell', 'PctLargHouseFam', 'PctLargHouseOccup', 'PersPerOccupHous', 'PersPerOwnOccHous', 'PersPerRentOccHous', 'PctPersOwnOccup', 'PctPersDenseHous', 'PctHousLess3BR', 'MedNumBR', 'HousVacant', 'PctHousOccup', 'PctHousOwnOcc', 'PctVacantBoarded', 'PctVacMore6Mos', 'MedYrHousBuilt', 'PctHousNoPhone', 'PctWOFullPlumb', 'OwnOccLowQuart', 'OwnOccMedVal', 'OwnOccHiQuart', 'RentLowQ', 'RentMedian', 'RentHighQ', 'MedRent', 'MedRentPctHousInc', 'MedOwnCostPctInc', 'MedOwnCostPctIncNoMtg', 'NumInShelters', 'NumStreet', 'PctForeignBorn', 'PctBornSameState', 'PctSameHouse85', 'PctSameCity85', 'PctSameState85', 'LemasSwornFT', 'LemasSwFTPerPop', 'LemasSwFTFieldOps', 'LemasSwFTFieldPerPop', 'LemasTotalReq', 'LemasTotReqPerPop', 'PolicReqPerOffic', 'PolicPerPop', 'RacialMatchCommPol', 'PctPolicWhite', 'PctPolicBlack', 'PctPolicHisp', 'PctPolicAsian', 'PctPolicMinor', 'OfficAssgnDrugUnits', 'NumKindsDrugsSeiz', 'PolicAveOTWorked', 'LandArea', 'PopDens', 'PctUsePubTrans', 'PolicCars', 'PolicOperBudg', 'LemasPctPolicOnPatr', 'LemasGangUnitDeploy', 'LemasPctOfficDrugUn', 'PolicBudgPerPop', 'ViolentCrimesPerPop']\n",
    "df.columns = column_names\n",
    "df"
   ]
  },
  {
   "cell_type": "code",
   "execution_count": null,
   "metadata": {},
   "outputs": [],
   "source": [
    "# Do Ridge, Lasso on all 122 variables (same as previously)\n",
    "y = df['ViolentCrimesPerPop'].copy()\n",
    "X = df.drop(\n",
    "    columns=['state', 'county', 'community', 'communityname', 'fold', 'ViolentCrimesPerPop']\n",
    ")"
   ]
  },
  {
   "cell_type": "code",
   "execution_count": null,
   "metadata": {},
   "outputs": [],
   "source": [
    "# We're going to compare the results of LASSO and Ridge regression\n",
    "import numpy as np\n",
    "import matplotlib.pyplot as plt\n",
    "from sklearn.model_selection import cross_validate, GridSearchCV\n",
    "from sklearn.pipeline import Pipeline\n",
    "from sklearn.linear_model import Lasso\n",
    "from sklearn.preprocessing import StandardScaler\n",
    "from sklearn.impute import SimpleImputer\n",
    "\n",
    "\n",
    "# Start by running nested cross-validation for LASSO\n",
    "grid = {\n",
    "    'estimator__alpha': np.logspace(-3, -1, 100)\n",
    "}\n",
    "\n",
    "pipe = Pipeline([\n",
    "    ('imputer', SimpleImputer(missing_values=np.nan, strategy='median')),\n",
    "    ('standardise', StandardScaler()),\n",
    "    ('estimator', Lasso())\n",
    "])\n",
    "\n",
    "grid_search_cv_lasso = GridSearchCV(estimator=pipe, param_grid=grid, cv=3)\n",
    "\n",
    "cv_result_lasso = cross_validate(estimator=grid_search_cv_lasso, X=X, y=y, cv=3, return_train_score=True)"
   ]
  },
  {
   "cell_type": "code",
   "execution_count": null,
   "metadata": {},
   "outputs": [],
   "source": [
    "# Now do the same for Ridge\n",
    "from sklearn.linear_model import Ridge\n",
    "\n",
    "grid = {\n",
    "    'estimator__alpha': np.logspace(-3, 2, 100)\n",
    "}\n",
    "\n",
    "pipe = Pipeline([\n",
    "    ('imputer', SimpleImputer(missing_values=np.nan, strategy='median')),\n",
    "    ('standardise', StandardScaler()),\n",
    "    ('estimator', Ridge())\n",
    "])\n",
    "\n",
    "grid_search_cv_ridge = GridSearchCV(estimator=pipe, param_grid=grid, cv=3)\n",
    "cv_result_ridge = cross_validate(grid_search_cv_ridge, X=X, y=y, cv=3, return_train_score=True)"
   ]
  },
  {
   "cell_type": "code",
   "execution_count": null,
   "metadata": {},
   "outputs": [],
   "source": [
    "# Compare our Outer test and train scores for both LASSO and Ridge\n",
    "test_score_lasso = cv_result_lasso['test_score']\n",
    "train_score_lasso = cv_result_lasso['train_score']\n",
    "test_score_ridge = cv_result_ridge['test_score']\n",
    "train_score_ridge = cv_result_ridge['train_score']\n",
    "plt.bar(x=range(4), \n",
    "        height = [np.mean(train_score_lasso), np.mean(test_score_lasso), np.mean(train_score_ridge), np.mean(test_score_ridge)], \n",
    "        tick_label=['Train (Lasso)', 'Test (Lasso)', 'Train (Ridge)', 'Test (Ridge)'], \n",
    "        yerr=[np.std(train_score_lasso), np.std(test_score_lasso), np.std(train_score_ridge), np.std(test_score_ridge)])\n",
    "plt.title('Outer CV Results')\n",
    "plt.show()"
   ]
  },
  {
   "cell_type": "code",
   "execution_count": null,
   "metadata": {},
   "outputs": [],
   "source": [
    "# Now fit both estimators with all data\n",
    "# And now fit the entire dataset\n",
    "grid_search_cv_lasso.fit(X=X, y=y)\n",
    "_ = grid_search_cv_ridge.fit(X=X, y=y)"
   ]
  },
  {
   "cell_type": "code",
   "execution_count": null,
   "metadata": {},
   "outputs": [],
   "source": [
    "# And compare the coefficients\n",
    "coef_lasso = grid_search_cv_lasso.best_estimator_.named_steps.estimator.coef_\n",
    "coef_ridge = grid_search_cv_ridge.best_estimator_.named_steps.estimator.coef_"
   ]
  },
  {
   "cell_type": "code",
   "execution_count": null,
   "metadata": {},
   "outputs": [],
   "source": [
    "# Compare the coefficients produced by Lasso vs Ridge\n",
    "# NOTE: That Lasso shrinks some coefficients to 0, whilst Ridge does not\n",
    "width = 0.4\n",
    "\n",
    "fig, ax = plt.subplots()\n",
    "fig.set_size_inches(10, 16)\n",
    "ind = np.arange(len(coef_lasso))\n",
    "ax.barh(ind, coef_lasso, width, label='Lasso')\n",
    "ax.barh(ind + width, coef_ridge, width, label='Ridge')\n",
    "\n",
    "ax.invert_yaxis()\n",
    "ax.set_yticks(ticks=ind + width, labels=grid_search_cv_lasso.best_estimator_.named_steps.imputer.feature_names_in_)\n",
    "ax.legend()\n",
    "plt.tight_layout()\n",
    "plt.show()"
   ]
  }
 ],
 "metadata": {
  "kernelspec": {
   "display_name": "env",
   "language": "python",
   "name": "python3"
  },
  "language_info": {
   "codemirror_mode": {
    "name": "ipython",
    "version": 3
   },
   "file_extension": ".py",
   "mimetype": "text/x-python",
   "name": "python",
   "nbconvert_exporter": "python",
   "pygments_lexer": "ipython3",
   "version": "3.10.8"
  },
  "orig_nbformat": 4
 },
 "nbformat": 4,
 "nbformat_minor": 2
}
